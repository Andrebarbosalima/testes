{
  "nbformat": 4,
  "nbformat_minor": 0,
  "metadata": {
    "colab": {
      "provenance": [],
      "authorship_tag": "ABX9TyN7JkBFDuWSvIsNm7Dlh3Fw",
      "include_colab_link": true
    },
    "kernelspec": {
      "name": "python3",
      "display_name": "Python 3"
    },
    "language_info": {
      "name": "python"
    }
  },
  "cells": [
    {
      "cell_type": "markdown",
      "metadata": {
        "id": "view-in-github",
        "colab_type": "text"
      },
      "source": [
        "<a href=\"https://colab.research.google.com/github/Andrebarbosalima/testes/blob/master/heraca_pynb.ipynb\" target=\"_parent\"><img src=\"https://colab.research.google.com/assets/colab-badge.svg\" alt=\"Open In Colab\"/></a>"
      ]
    },
    {
      "cell_type": "code",
      "execution_count": 1,
      "metadata": {
        "colab": {
          "base_uri": "https://localhost:8080/"
        },
        "id": "AqPuYVQtkHk9",
        "outputId": "359725ea-532e-4001-89d7-cf898ae71542"
      },
      "outputs": [
        {
          "output_type": "stream",
          "name": "stdout",
          "text": [
            "Nome: Vingadores - Guerra Infinita - Likes: 3\n",
            "Nome: Atlanta - Likes: 2\n"
          ]
        }
      ],
      "source": [
        "class Programa:\n",
        "    def __init__(self, nome, ano):\n",
        "        self._nome = nome.title()\n",
        "        self.ano = ano\n",
        "        self._likes = 0\n",
        "\n",
        "    @property\n",
        "    def likes(self):\n",
        "        return self._likes\n",
        "\n",
        "    def dar_likes(self):\n",
        "        self._likes += 1\n",
        "\n",
        "    @property\n",
        "    def nome(self):\n",
        "        return self._nome\n",
        "\n",
        "    @nome.setter\n",
        "    def nome(self, nome):\n",
        "        self._nome = nome\n",
        "\n",
        "class Filme(Programa):\n",
        "    def __init__(self, nome, ano, duracao):\n",
        "        super().__init__(nome, ano)\n",
        "        self.duracao = duracao\n",
        "\n",
        "class Serie(Programa):\n",
        "    def __init__(self, nome, ano, temporadas):\n",
        "        super().__init__(nome, ano)\n",
        "        self.temporadas = temporadas\n",
        "\n",
        "vingadores = Filme('vingadores - guerra infinita', 2018, 160)\n",
        "atlanta = Serie('atlanta', 2018, 2)\n",
        "vingadores.dar_likes()\n",
        "vingadores.dar_likes()\n",
        "vingadores.dar_likes()\n",
        "\n",
        "atlanta.dar_likes()\n",
        "atlanta.dar_likes()\n",
        "\n",
        "print(f'Nome: {vingadores.nome} - Likes: {vingadores.likes}')\n",
        "print(f'Nome: {atlanta.nome} - Likes: {atlanta.likes}')"
      ]
    }
  ]
}